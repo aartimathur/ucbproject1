{
 "cells": [
  {
   "cell_type": "code",
   "execution_count": 13,
   "metadata": {},
   "outputs": [],
   "source": [
    "import pandas as pd\n",
    "import gmaps \n",
    "from config import gkey"
   ]
  },
  {
   "cell_type": "code",
   "execution_count": 2,
   "metadata": {},
   "outputs": [],
   "source": [
    "#API_KEY = 'your api key'\n",
    "#gm = googlemaps.Client(key=API_KEY)\n",
    "gmaps.configure(api_key=gkey) # Your Google API key"
   ]
  },
  {
   "cell_type": "code",
   "execution_count": 5,
   "metadata": {},
   "outputs": [
    {
     "data": {
      "text/plain": [
       "Index(['Unnamed: 0', 'Category', 'Descript', 'DayOfWeek', 'Date', 'Time',\n",
       "       'PdDistrict', 'X', 'Y', 'PdId', 'Year'],\n",
       "      dtype='object')"
      ]
     },
     "execution_count": 5,
     "metadata": {},
     "output_type": "execute_result"
    }
   ],
   "source": [
    "df=pd.read_csv('df_ld.csv', low_memory=False)  # read geocoded location from file\n",
    "df.columns"
   ]
  },
  {
   "cell_type": "code",
   "execution_count": 34,
   "metadata": {},
   "outputs": [
    {
     "data": {
      "text/html": [
       "<div>\n",
       "<style scoped>\n",
       "    .dataframe tbody tr th:only-of-type {\n",
       "        vertical-align: middle;\n",
       "    }\n",
       "\n",
       "    .dataframe tbody tr th {\n",
       "        vertical-align: top;\n",
       "    }\n",
       "\n",
       "    .dataframe thead th {\n",
       "        text-align: right;\n",
       "    }\n",
       "</style>\n",
       "<table border=\"1\" class=\"dataframe\">\n",
       "  <thead>\n",
       "    <tr style=\"text-align: right;\">\n",
       "      <th></th>\n",
       "      <th>X</th>\n",
       "      <th>Y</th>\n",
       "    </tr>\n",
       "  </thead>\n",
       "  <tbody>\n",
       "    <tr>\n",
       "      <th>40537</th>\n",
       "      <td>-122.422858</td>\n",
       "      <td>37.805444</td>\n",
       "    </tr>\n",
       "    <tr>\n",
       "      <th>205972</th>\n",
       "      <td>-122.423218</td>\n",
       "      <td>37.786402</td>\n",
       "    </tr>\n",
       "    <tr>\n",
       "      <th>301548</th>\n",
       "      <td>-122.425565</td>\n",
       "      <td>37.781270</td>\n",
       "    </tr>\n",
       "    <tr>\n",
       "      <th>344395</th>\n",
       "      <td>-122.404385</td>\n",
       "      <td>37.772196</td>\n",
       "    </tr>\n",
       "    <tr>\n",
       "      <th>95620</th>\n",
       "      <td>-122.420250</td>\n",
       "      <td>37.780075</td>\n",
       "    </tr>\n",
       "  </tbody>\n",
       "</table>\n",
       "</div>"
      ],
      "text/plain": [
       "                 X          Y\n",
       "40537  -122.422858  37.805444\n",
       "205972 -122.423218  37.786402\n",
       "301548 -122.425565  37.781270\n",
       "344395 -122.404385  37.772196\n",
       "95620  -122.420250  37.780075"
      ]
     },
     "execution_count": 34,
     "metadata": {},
     "output_type": "execute_result"
    }
   ],
   "source": [
    "df = df[['X', 'Y']]\n",
    "sample = df.sample(50000)\n",
    "sample.head()     "
   ]
  },
  {
   "cell_type": "code",
   "execution_count": 35,
   "metadata": {},
   "outputs": [
    {
     "data": {
      "text/html": [
       "<div>\n",
       "<style scoped>\n",
       "    .dataframe tbody tr th:only-of-type {\n",
       "        vertical-align: middle;\n",
       "    }\n",
       "\n",
       "    .dataframe tbody tr th {\n",
       "        vertical-align: top;\n",
       "    }\n",
       "\n",
       "    .dataframe thead th {\n",
       "        text-align: right;\n",
       "    }\n",
       "</style>\n",
       "<table border=\"1\" class=\"dataframe\">\n",
       "  <thead>\n",
       "    <tr style=\"text-align: right;\">\n",
       "      <th></th>\n",
       "      <th>X</th>\n",
       "      <th>Y</th>\n",
       "      <th>weight</th>\n",
       "    </tr>\n",
       "  </thead>\n",
       "  <tbody>\n",
       "    <tr>\n",
       "      <th>40537</th>\n",
       "      <td>-122.422858</td>\n",
       "      <td>37.805444</td>\n",
       "      <td>1</td>\n",
       "    </tr>\n",
       "    <tr>\n",
       "      <th>205972</th>\n",
       "      <td>-122.423218</td>\n",
       "      <td>37.786402</td>\n",
       "      <td>1</td>\n",
       "    </tr>\n",
       "    <tr>\n",
       "      <th>301548</th>\n",
       "      <td>-122.425565</td>\n",
       "      <td>37.781270</td>\n",
       "      <td>1</td>\n",
       "    </tr>\n",
       "    <tr>\n",
       "      <th>344395</th>\n",
       "      <td>-122.404385</td>\n",
       "      <td>37.772196</td>\n",
       "      <td>1</td>\n",
       "    </tr>\n",
       "    <tr>\n",
       "      <th>95620</th>\n",
       "      <td>-122.420250</td>\n",
       "      <td>37.780075</td>\n",
       "      <td>1</td>\n",
       "    </tr>\n",
       "  </tbody>\n",
       "</table>\n",
       "</div>"
      ],
      "text/plain": [
       "                 X          Y  weight\n",
       "40537  -122.422858  37.805444       1\n",
       "205972 -122.423218  37.786402       1\n",
       "301548 -122.425565  37.781270       1\n",
       "344395 -122.404385  37.772196       1\n",
       "95620  -122.420250  37.780075       1"
      ]
     },
     "execution_count": 35,
     "metadata": {},
     "output_type": "execute_result"
    }
   ],
   "source": [
    "sample['weight'] = 1\n",
    "sample.head()"
   ]
  },
  {
   "cell_type": "code",
   "execution_count": 36,
   "metadata": {},
   "outputs": [
    {
     "data": {
      "text/html": [
       "<div>\n",
       "<style scoped>\n",
       "    .dataframe tbody tr th:only-of-type {\n",
       "        vertical-align: middle;\n",
       "    }\n",
       "\n",
       "    .dataframe tbody tr th {\n",
       "        vertical-align: top;\n",
       "    }\n",
       "\n",
       "    .dataframe thead th {\n",
       "        text-align: right;\n",
       "    }\n",
       "</style>\n",
       "<table border=\"1\" class=\"dataframe\">\n",
       "  <thead>\n",
       "    <tr style=\"text-align: right;\">\n",
       "      <th></th>\n",
       "      <th>Y</th>\n",
       "      <th>X</th>\n",
       "    </tr>\n",
       "  </thead>\n",
       "  <tbody>\n",
       "    <tr>\n",
       "      <th>40537</th>\n",
       "      <td>37.805444</td>\n",
       "      <td>-122.422858</td>\n",
       "    </tr>\n",
       "    <tr>\n",
       "      <th>205972</th>\n",
       "      <td>37.786402</td>\n",
       "      <td>-122.423218</td>\n",
       "    </tr>\n",
       "    <tr>\n",
       "      <th>301548</th>\n",
       "      <td>37.781270</td>\n",
       "      <td>-122.425565</td>\n",
       "    </tr>\n",
       "    <tr>\n",
       "      <th>344395</th>\n",
       "      <td>37.772196</td>\n",
       "      <td>-122.404385</td>\n",
       "    </tr>\n",
       "    <tr>\n",
       "      <th>95620</th>\n",
       "      <td>37.780075</td>\n",
       "      <td>-122.420250</td>\n",
       "    </tr>\n",
       "  </tbody>\n",
       "</table>\n",
       "</div>"
      ],
      "text/plain": [
       "                Y           X\n",
       "40537   37.805444 -122.422858\n",
       "205972  37.786402 -122.423218\n",
       "301548  37.781270 -122.425565\n",
       "344395  37.772196 -122.404385\n",
       "95620   37.780075 -122.420250"
      ]
     },
     "execution_count": 36,
     "metadata": {},
     "output_type": "execute_result"
    }
   ],
   "source": [
    "locations = sample[['Y', 'X']]          # put latitide and longitude as a variable name 'locations'\n",
    "val = sample['weight']                                 # put the weight into variable name 'val'\n",
    "locations.head()                                          # display the first 5 rows of the location data"
   ]
  },
  {
   "cell_type": "code",
   "execution_count": 37,
   "metadata": {},
   "outputs": [],
   "source": [
    "# do geocode for the whole mega city\n",
    "# geocode_result = gm.geocode('San Francisco')[0]  # change the name into your city of interest\n",
    "\n",
    "# get the center of the city\n",
    "# center_lat=geocode_result['geometry']['location']['lat']\n",
    "# center_lng=geocode_result['geometry']['location']['lng']\n",
    "# print('center=',center_lat,center_lng)"
   ]
  },
  {
   "cell_type": "code",
   "execution_count": 38,
   "metadata": {},
   "outputs": [],
   "source": [
    "def drawHeatMap(location, val, zoom, intensity, radius):\n",
    "    # setting the data and parameters\n",
    "    heatmap_layer = gmaps.heatmap_layer(locations, val, dissipating = True)\n",
    "    heatmap_layer.max_intensity = intensity\n",
    "    heatmap_layer.point_radius = radius\n",
    "    # draw the heatmap into a figure\n",
    "    fig = gmaps.figure()\n",
    "    fig = gmaps.figure(center = [37.75,-122.4], zoom_level=zoom)\n",
    "    fig.add_layer(heatmap_layer)\n",
    "    return fig"
   ]
  },
  {
   "cell_type": "code",
   "execution_count": 39,
   "metadata": {},
   "outputs": [
    {
     "data": {
      "application/vnd.jupyter.widget-view+json": {
       "model_id": "b1c4c780e744474d8dfe517a55f1bfc6",
       "version_major": 2,
       "version_minor": 0
      },
      "text/plain": [
       "Figure(layout=FigureLayout(height='420px'))"
      ]
     },
     "metadata": {},
     "output_type": "display_data"
    }
   ],
   "source": [
    "# set up parameters\n",
    "zoom=12\n",
    "intensity=1\n",
    "radius=2\n",
    "\n",
    "# call the function to draw the heatmap\n",
    "drawHeatMap(locations, val, zoom, intensity, radius)"
   ]
  },
  {
   "cell_type": "code",
   "execution_count": null,
   "metadata": {},
   "outputs": [],
   "source": []
  },
  {
   "cell_type": "code",
   "execution_count": null,
   "metadata": {},
   "outputs": [],
   "source": []
  }
 ],
 "metadata": {
  "kernelspec": {
   "display_name": "Python 3",
   "language": "python",
   "name": "python3"
  },
  "language_info": {
   "codemirror_mode": {
    "name": "ipython",
    "version": 3
   },
   "file_extension": ".py",
   "mimetype": "text/x-python",
   "name": "python",
   "nbconvert_exporter": "python",
   "pygments_lexer": "ipython3",
   "version": "3.7.1"
  }
 },
 "nbformat": 4,
 "nbformat_minor": 2
}
