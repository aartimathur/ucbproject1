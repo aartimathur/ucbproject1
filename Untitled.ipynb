{
 "cells": [
  {
   "cell_type": "code",
   "execution_count": 2,
   "metadata": {},
   "outputs": [
    {
     "data": {
      "text/html": [
       "<div>\n",
       "<style scoped>\n",
       "    .dataframe tbody tr th:only-of-type {\n",
       "        vertical-align: middle;\n",
       "    }\n",
       "\n",
       "    .dataframe tbody tr th {\n",
       "        vertical-align: top;\n",
       "    }\n",
       "\n",
       "    .dataframe thead th {\n",
       "        text-align: right;\n",
       "    }\n",
       "</style>\n",
       "<table border=\"1\" class=\"dataframe\">\n",
       "  <thead>\n",
       "    <tr style=\"text-align: right;\">\n",
       "      <th></th>\n",
       "      <th>the_geom</th>\n",
       "      <th>GEOID</th>\n",
       "      <th>NHOOD</th>\n",
       "      <th>TRACTCE10</th>\n",
       "      <th>SHAPE_AREA</th>\n",
       "      <th>SHAPE_LEN</th>\n",
       "    </tr>\n",
       "  </thead>\n",
       "  <tbody>\n",
       "    <tr>\n",
       "      <th>0</th>\n",
       "      <td>MULTIPOLYGON (((-122.43246699970955 37.7737570...</td>\n",
       "      <td>6075016400</td>\n",
       "      <td>Hayes Valley</td>\n",
       "      <td>16400</td>\n",
       "      <td>3.326589e+06</td>\n",
       "      <td>7589.679396</td>\n",
       "    </tr>\n",
       "    <tr>\n",
       "      <th>1</th>\n",
       "      <td>MULTIPOLYGON (((-122.4235409996432 37.77967400...</td>\n",
       "      <td>6075016100</td>\n",
       "      <td>Western Addition</td>\n",
       "      <td>16100</td>\n",
       "      <td>3.970259e+06</td>\n",
       "      <td>8525.808755</td>\n",
       "    </tr>\n",
       "    <tr>\n",
       "      <th>2</th>\n",
       "      <td>MULTIPOLYGON (((-122.42468700019211 37.7853350...</td>\n",
       "      <td>6075015900</td>\n",
       "      <td>Western Addition</td>\n",
       "      <td>15900</td>\n",
       "      <td>3.179072e+06</td>\n",
       "      <td>8000.966619</td>\n",
       "    </tr>\n",
       "    <tr>\n",
       "      <th>3</th>\n",
       "      <td>MULTIPOLYGON (((-122.42468700019211 37.7853350...</td>\n",
       "      <td>6075015500</td>\n",
       "      <td>Japantown</td>\n",
       "      <td>15500</td>\n",
       "      <td>3.364565e+06</td>\n",
       "      <td>12144.016761</td>\n",
       "    </tr>\n",
       "    <tr>\n",
       "      <th>4</th>\n",
       "      <td>MULTIPOLYGON (((-122.43491799981281 37.7858759...</td>\n",
       "      <td>6075015300</td>\n",
       "      <td>Pacific Heights</td>\n",
       "      <td>15300</td>\n",
       "      <td>2.515363e+06</td>\n",
       "      <td>6918.268026</td>\n",
       "    </tr>\n",
       "  </tbody>\n",
       "</table>\n",
       "</div>"
      ],
      "text/plain": [
       "                                            the_geom       GEOID  \\\n",
       "0  MULTIPOLYGON (((-122.43246699970955 37.7737570...  6075016400   \n",
       "1  MULTIPOLYGON (((-122.4235409996432 37.77967400...  6075016100   \n",
       "2  MULTIPOLYGON (((-122.42468700019211 37.7853350...  6075015900   \n",
       "3  MULTIPOLYGON (((-122.42468700019211 37.7853350...  6075015500   \n",
       "4  MULTIPOLYGON (((-122.43491799981281 37.7858759...  6075015300   \n",
       "\n",
       "              NHOOD  TRACTCE10    SHAPE_AREA     SHAPE_LEN  \n",
       "0      Hayes Valley      16400  3.326589e+06   7589.679396  \n",
       "1  Western Addition      16100  3.970259e+06   8525.808755  \n",
       "2  Western Addition      15900  3.179072e+06   8000.966619  \n",
       "3         Japantown      15500  3.364565e+06  12144.016761  \n",
       "4   Pacific Heights      15300  2.515363e+06   6918.268026  "
      ]
     },
     "execution_count": 2,
     "metadata": {},
     "output_type": "execute_result"
    }
   ],
   "source": [
    "import pandas as pd\n",
    "\n",
    "file_to_load = 'Analysis_Neighborhoods.csv'\n",
    "\n",
    "neighborhood_data = pd.read_csv(file_to_load)\n",
    "\n",
    "neighborhood_data.head()"
   ]
  },
  {
   "cell_type": "code",
   "execution_count": null,
   "metadata": {},
   "outputs": [],
   "source": []
  }
 ],
 "metadata": {
  "kernelspec": {
   "display_name": "Python 3",
   "language": "python",
   "name": "python3"
  },
  "language_info": {
   "codemirror_mode": {
    "name": "ipython",
    "version": 3
   },
   "file_extension": ".py",
   "mimetype": "text/x-python",
   "name": "python",
   "nbconvert_exporter": "python",
   "pygments_lexer": "ipython3",
   "version": "3.7.1"
  }
 },
 "nbformat": 4,
 "nbformat_minor": 2
}
